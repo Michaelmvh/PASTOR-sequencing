{
 "cells": [
  {
   "cell_type": "markdown",
   "id": "4b514616",
   "metadata": {},
   "source": [
    "# Joint Embedding of Protein Signals and Amino Acid Sequences\n",
    "\n",
    "This notebook aims to create joint embeddings of protein signals and their corresponding amino acid sequences in the same vector space.\n",
    "\n",
    "Try:\n",
    "- Take the raw signal and match them to the corresponding peptide using a joint embedding space and contrastive learning\n",
    "\n",
    "TODO:\n",
    "- Dataset\n",
    "    - Read in df\n",
    "    - Split df into train/test split\n",
    "        - Use the exact splits from the other models (CNN, RF) to make them directly comparable\n",
    "- Model\n",
    "    - Create an encoder that takes in reading and returns embedding \n",
    "    - Create an encoder that takes in sequence and returns embedding\n",
    "    - Train\n",
    "    - Test\n",
    "- Evaluation\n",
    "    - Crete a dummy classifier (not sure how)\n",
    "    - Compare to the CNN and RF models\n",
    "    - Try to do a 1:1 comparison between existing models and my embedding model"
   ]
  },
  {
   "cell_type": "code",
   "execution_count": 1,
   "id": "3109fb42",
   "metadata": {},
   "outputs": [],
   "source": [
    "import numpy as np\n",
    "import pandas as pd\n",
    "# import matplotlib.pyplot as plt\n",
    "import seaborn as sns\n",
    "# import os, time\n",
    "from sklearn.model_selection import train_test_split\n",
    "import torch\n",
    "import torch.nn as nn\n",
    "from torch.utils.data import Dataset, DataLoader\n",
    "import torch.nn.functional as F\n",
    "import torch.optim as optim\n",
    "import random\n",
    "# import math\n",
    "# import warnings\n",
    "# import scipy.signal as scisignal\n",
    "# import sklearn.utils.class_weight as class_weight\n",
    "# from sklearn.decomposition import PCA\n"
   ]
  },
  {
   "cell_type": "markdown",
   "id": "dde6e103",
   "metadata": {},
   "source": [
    "## Understanding data"
   ]
  },
  {
   "cell_type": "code",
   "execution_count": 23,
   "id": "120a6cf5",
   "metadata": {},
   "outputs": [],
   "source": [
    "# index_to_aa = [aa for aa in 'CSAGTVNQMILYWFPHRKDE']\n",
    "aa_to_index = {aa:i for i, aa in enumerate('CSAGTVNQMILYWFPHRKDE')}\n",
    "\n",
    "run_to_peptide = {\n",
    "    '20220824_run02_a': 'HDKER',\n",
    "    '20220826_run01_a': 'GNQST',\n",
    "    '20220826_run02_a': 'FYWCP',\n",
    "    '20220826_run03_a': 'AVLIM',\n",
    "    '20220907_run01_a': 'GNQST',\n",
    "    '20221010_run02_a': 'GNQST',\n",
    "    '20221011_run02_a': 'HDKER',\n",
    "    '20221026_run01_a': 'VGDNY',\n",
    "    '20221028_run01_a': 'TWAFH',\n",
    "    '20221028_run02_a': 'PRMQE',\n",
    "    '20221107_run01_a': 'TWAFH',\n",
    "    '20221108_run01_a': 'TWAFH',\n",
    "    '20221109_run01_a': 'VGDNY',\n",
    "    '20221109_run02_a': 'PRMQE',\n",
    "    '20221109_run03_a': 'KSILC',\n",
    "    '20221109_run04_a': 'FYWCP',\n",
    "    '20221110_run02_a': 'AVLIM',\n",
    "    '20221121_run01_a': 'KSILC',\n",
    "    '20221122_run01_a': 'KSILC',\n",
    "    '20221122_run02_a': 'PRMQE',\n",
    "    '20221122_run03_a': 'KSILC', \n",
    "    '20221213_run02_a': 'FYWCP',\n",
    "    '20221214_run01_a': 'FYWCP',\n",
    "    '20221214_run04_a': 'FYWCP',\n",
    "    '20221219_run01_a': 'VGDNY',\n",
    "    '20221220_run01_a': 'FYWCP',\n",
    "    '20221220_run04_a': 'AVLIM',\n",
    "    '20221221_run01_a': 'TWAFH',\n",
    "    '20221221_run02_a': 'KSILC',\n",
    " }\n",
    "\n",
    "run_df = pd.read_json('./data/run_df.json')"
   ]
  },
  {
   "cell_type": "code",
   "execution_count": 29,
   "id": "fb0a48f5",
   "metadata": {},
   "outputs": [
    {
     "name": "stdout",
     "output_type": "stream",
     "text": [
      "Run to Peptide Mapping: {'20220824_run02_a': 'HDKER', '20220826_run01_a': 'GNQST', '20220826_run02_a': 'FYWCP', '20220826_run03_a': 'AVLIM', '20220907_run01_a': 'GNQST', '20221010_run02_a': 'GNQST', '20221011_run02_a': 'HDKER', '20221026_run01_a': 'VGDNY', '20221028_run01_a': 'TWAFH', '20221028_run02_a': 'PRMQE', '20221107_run01_a': 'TWAFH', '20221108_run01_a': 'TWAFH', '20221109_run01_a': 'VGDNY', '20221109_run02_a': 'PRMQE', '20221109_run03_a': 'KSILC', '20221109_run04_a': 'FYWCP', '20221110_run02_a': 'AVLIM', '20221121_run01_a': 'KSILC', '20221122_run01_a': 'KSILC', '20221122_run02_a': 'PRMQE', '20221122_run03_a': 'KSILC', '20221213_run02_a': 'FYWCP', '20221214_run01_a': 'FYWCP', '20221214_run04_a': 'FYWCP', '20221219_run01_a': 'VGDNY', '20221220_run01_a': 'FYWCP', '20221220_run04_a': 'AVLIM', '20221221_run01_a': 'TWAFH', '20221221_run02_a': 'KSILC'}\n",
      "Amino Acids to Index Mapping: {'C': 0, 'S': 1, 'A': 2, 'G': 3, 'T': 4, 'V': 5, 'N': 6, 'Q': 7, 'M': 8, 'I': 9, 'L': 10, 'Y': 11, 'W': 12, 'F': 13, 'P': 14, 'H': 15, 'R': 16, 'K': 17, 'D': 18, 'E': 19}\n",
      "Number of unique peptides: 8\n",
      "Number of runs: 29\n",
      "Example Peptide for run_df row 1 (20220824_run02_a): HDKER\n"
     ]
    }
   ],
   "source": [
    "print(f\"Run to Peptide Mapping: {run_to_peptide}\")\n",
    "print(f\"Amino Acids to Index Mapping: {aa_to_index}\")\n",
    "print(f\"Number of unique peptides: {len(set(run_to_peptide.values()))}\")\n",
    "print(f\"Number of runs: {len(set(run_to_peptide.keys()))}\")\n",
    "print(f\"Example Peptide for run_df row 1 ({run_df.iloc[0].name}): {run_to_peptide.get(run_df.iloc[0].name, 'Unknown')}\")"
   ]
  },
  {
   "cell_type": "code",
   "execution_count": null,
   "id": "141777cf",
   "metadata": {},
   "outputs": [
    {
     "data": {
      "text/plain": [
       "20220824_run02_a    {'1.0': [32.0503955078, 32.1850610352, 31.6463...\n",
       "20220826_run02_a    {'22.0': [30.718359375, 30.5787304687, 31.9750...\n",
       "20220826_run03_a    {'9.0': [28.5575097656, 27.4998242187, 28.2930...\n",
       "20220907_run01_a    {'58.0': [35.0544482422, 35.6291113281, 35.054...\n",
       "20221213_run02_a    {'146.0': [31.6711230469, 32.6185498047, 32.07...\n",
       "20221214_run01_a    {'77.0': [30.9753662109, 30.271380615200002, 2...\n",
       "Name: data, dtype: object"
      ]
     },
     "execution_count": 22,
     "metadata": {},
     "output_type": "execute_result"
    }
   ],
   "source": [
    "## Train/Validation/Test Split\n",
    "### Based off the splits used in the other models (CNN, RF) to make them directly comparable\n",
    "chosen_runs = ['20220824_run02_a', '20220826_run02_a', '20220826_run03_a', '20220907_run01_a', '20221213_run02_a', '20221214_run01_a']\n",
    "\n",
    "class MyDataset(Dataset):\n",
    "    def __init__(self, input_data, output_data):\n",
    "        self.input_data = input_data\n",
    "        self.output_data = output_data\n",
    "\n",
    "    def __len__(self):\n",
    "        return len(self.input_data)\n",
    "\n",
    "    def __getitem__(self, idx):\n",
    "        return self.input_data[idx], self.output_data[idx]\n",
    "\n",
    "def seed_worker(worker_id):\n",
    "    worker_seed = torch.initial_seed() % 2**32\n",
    "    np.random.seed(worker_seed)\n",
    "    random.seed(worker_seed)\n",
    "\n",
    "# train / validation / test split\n",
    "test = run_df.loc[chosen_runs]\n",
    "train = run_df.drop(chosen_runs)\n",
    "\n",
    "test['data']\n",
    "    \n",
    "def get_data(segment_len, batch_size, acids=index_to_aa):\n",
    "    acid_to_index = {aa:i for i, aa in enumerate(acids)}\n",
    "\n",
    "#     train_input = tr_segments[tr_segments.aa.isin(acids)].transformed.apply(lambda s: stretch(s, segment_len)).apply(torch.tensor).values\n",
    "# #     val_input   = vl_segments[vl_segments.aa.isin(acids)].transformed.apply(lambda s: stretch(s, segment_len)).apply(torch.tensor).values\n",
    "#     test_input  = te_segments[te_segments.aa.isin(acids)].transformed.apply(lambda s: stretch(s, segment_len)).apply(torch.tensor).values\n",
    "# #     val_output    = vl_segments[vl_segments.aa.isin(acids)].aa.apply(lambda a: acid_to_index[a]).values\n",
    "#     train_output = tr_segments[tr_segments.aa.isin(acids)].aa.apply(lambda a: acid_to_index[a]).values\n",
    "#     test_output  = te_segments[te_segments.aa.isin(acids)].aa.apply(lambda a: acid_to_index[a]).values\n",
    "\n",
    "\n",
    "    # Create instances of the dataset and dataloader\n",
    "    train_dataset = MyDataset(train_input, train_output)\n",
    "#     val_dataset = MyDataset(val_input, val_output)\n",
    "    test_dataset = MyDataset(test_input, test_output)\n",
    "\n",
    "\n",
    "    train_loader = torch.utils.data.DataLoader(train_dataset, batch_size=batch_size, shuffle=True,worker_init_fn=seed_worker)\n",
    "#     vld_loader = torch.utils.data.DataLoader(val_dataset, batch_size=batch_size, shuffle=True,worker_init_fn=seed_worker)\n",
    "    test_loader = torch.utils.data.DataLoader(test_dataset, batch_size=batch_size, shuffle=True,worker_init_fn=seed_worker)\n",
    "\n",
    "    # class_weights=class_weight.compute_class_weight(class_weight='balanced',classes=np.unique(train_output),y=train_output)\n",
    "    # class_weights=torch.tensor(class_weights,dtype=torch.float)\n",
    "    return train_loader, test_loader, # class_weights  #vld_loader,\n"
   ]
  },
  {
   "cell_type": "markdown",
   "id": "c66af68c",
   "metadata": {},
   "source": [
    "## Model"
   ]
  },
  {
   "cell_type": "markdown",
   "id": "65aa066a",
   "metadata": {},
   "source": [
    "### Define Model"
   ]
  },
  {
   "cell_type": "code",
   "execution_count": null,
   "id": "1defcfac",
   "metadata": {},
   "outputs": [],
   "source": []
  },
  {
   "cell_type": "code",
   "execution_count": null,
   "id": "f932f87b",
   "metadata": {},
   "outputs": [],
   "source": []
  },
  {
   "cell_type": "markdown",
   "id": "e8da56a5",
   "metadata": {},
   "source": [
    "## Evaluation"
   ]
  },
  {
   "cell_type": "markdown",
   "id": "85b5a8e6",
   "metadata": {},
   "source": []
  }
 ],
 "metadata": {
  "kernelspec": {
   "display_name": "pastor",
   "language": "python",
   "name": "python3"
  },
  "language_info": {
   "codemirror_mode": {
    "name": "ipython",
    "version": 3
   },
   "file_extension": ".py",
   "mimetype": "text/x-python",
   "name": "python",
   "nbconvert_exporter": "python",
   "pygments_lexer": "ipython3",
   "version": "3.13.5"
  }
 },
 "nbformat": 4,
 "nbformat_minor": 5
}
