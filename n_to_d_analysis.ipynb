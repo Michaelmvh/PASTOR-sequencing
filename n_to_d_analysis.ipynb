{
 "cells": [
  {
   "cell_type": "code",
   "execution_count": 22,
   "metadata": {},
   "outputs": [],
   "source": [
    "# import statments\n",
    "import numpy as np\n",
    "import pandas as pd\n",
    "import matplotlib.pyplot as plt\n",
    "from matplotlib.pyplot import figure\n",
    "import random\n",
    "\n",
    "# load data\n",
    "norm_df = pd.read_json('./data/segments_df.json') # use segments_df, not pretty_segments, which has had putative Ns changed to Ds\n",
    "norm_df = norm_df[norm_df.pretty]\n",
    "deam_df = pd.read_json('./data/n_to_d_segments_df.json') # this is already filtered for \"pretty\" segments"
   ]
  },
  {
   "cell_type": "markdown",
   "metadata": {},
   "source": [
    "### Calculate and print the percent putative deamidation of Asn in different conditions"
   ]
  },
  {
   "cell_type": "code",
   "execution_count": 23,
   "metadata": {},
   "outputs": [
    {
     "name": "stdout",
     "output_type": "stream",
     "text": [
      "Normal conditions, % N-> D:10\n",
      " Basic conditions, % N-> D:96\n"
     ]
    },
    {
     "name": "stderr",
     "output_type": "stream",
     "text": [
      "/var/folders/rb/4nfyc06110b944pkssbl1yrw0000gn/T/ipykernel_628/263080559.py:2: UserWarning: Boolean Series key will be reindexed to match DataFrame index.\n",
      "  deam_nn = len(deam_df[deam_df.aa == 'N'][deam_df['max'] < 1.3])\n",
      "/var/folders/rb/4nfyc06110b944pkssbl1yrw0000gn/T/ipykernel_628/263080559.py:3: UserWarning: Boolean Series key will be reindexed to match DataFrame index.\n",
      "  deam_nd = len(deam_df[deam_df.aa == 'N'][deam_df['max'] >= 1.3])\n",
      "/var/folders/rb/4nfyc06110b944pkssbl1yrw0000gn/T/ipykernel_628/263080559.py:7: UserWarning: Boolean Series key will be reindexed to match DataFrame index.\n",
      "  norm_nn = len(norm_df[norm_df.aa == 'N'][norm_df['max'] < 1.3])\n",
      "/var/folders/rb/4nfyc06110b944pkssbl1yrw0000gn/T/ipykernel_628/263080559.py:8: UserWarning: Boolean Series key will be reindexed to match DataFrame index.\n",
      "  norm_nd = len(norm_df[norm_df.aa == 'N'][norm_df['max'] >= 1.3])\n"
     ]
    }
   ],
   "source": [
    "deam_n = len(deam_df[deam_df.aa == 'N'])\n",
    "deam_nn = len(deam_df[deam_df.aa == 'N'][deam_df['max'] < 1.3])\n",
    "deam_nd = len(deam_df[deam_df.aa == 'N'][deam_df['max'] >= 1.3])\n",
    "\n",
    "\n",
    "norm_n = len(norm_df[norm_df.aa == 'N'])\n",
    "norm_nn = len(norm_df[norm_df.aa == 'N'][norm_df['max'] < 1.3])\n",
    "norm_nd = len(norm_df[norm_df.aa == 'N'][norm_df['max'] >= 1.3])\n",
    "\n",
    "print(f\"Normal conditions, % N-> D:{round(norm_nd/(norm_n)*100)}\\n Basic conditions, % N-> D:{round(deam_nd/deam_n*100)}\")"
   ]
  },
  {
   "cell_type": "markdown",
   "metadata": {},
   "source": [
    "### Plot the percent putative deamidation of Asn in different conditions for each run"
   ]
  },
  {
   "cell_type": "code",
   "execution_count": 25,
   "metadata": {},
   "outputs": [
    {
     "name": "stderr",
     "output_type": "stream",
     "text": [
      "/var/folders/rb/4nfyc06110b944pkssbl1yrw0000gn/T/ipykernel_628/2814218114.py:7: UserWarning: Boolean Series key will be reindexed to match DataFrame index.\n",
      "  deam_n = len(deam_df[deam_df.run == run][deam_df.aa == 'N'])\n",
      "/var/folders/rb/4nfyc06110b944pkssbl1yrw0000gn/T/ipykernel_628/2814218114.py:8: UserWarning: Boolean Series key will be reindexed to match DataFrame index.\n",
      "  deam_nn = len(deam_df[deam_df.run == run][deam_df.aa == 'N'][deam_df['max'] < 1.3])\n",
      "/var/folders/rb/4nfyc06110b944pkssbl1yrw0000gn/T/ipykernel_628/2814218114.py:9: UserWarning: Boolean Series key will be reindexed to match DataFrame index.\n",
      "  deam_nd = len(deam_df[deam_df.run == run][deam_df.aa == 'N'][deam_df['max'] >= 1.3])\n",
      "/var/folders/rb/4nfyc06110b944pkssbl1yrw0000gn/T/ipykernel_628/2814218114.py:15: UserWarning: Boolean Series key will be reindexed to match DataFrame index.\n",
      "  norm_n = len(norm_df[norm_df.run == run][norm_df.aa == 'N'])\n",
      "/var/folders/rb/4nfyc06110b944pkssbl1yrw0000gn/T/ipykernel_628/2814218114.py:16: UserWarning: Boolean Series key will be reindexed to match DataFrame index.\n",
      "  norm_nn = len(norm_df[norm_df.run == run][norm_df.aa == 'N'][norm_df['max'] < 1.3])\n",
      "/var/folders/rb/4nfyc06110b944pkssbl1yrw0000gn/T/ipykernel_628/2814218114.py:17: UserWarning: Boolean Series key will be reindexed to match DataFrame index.\n",
      "  norm_nd = len(norm_df[norm_df.run == run][norm_df.aa == 'N'][norm_df['max'] >= 1.3])\n"
     ]
    },
    {
     "data": {
      "image/png": "[encoded data removed]",
      "text/plain": [
       "<Figure size 400x400 with 1 Axes>"
      ]
     },
     "metadata": {},
     "output_type": "display_data"
    }
   ],
   "source": [
    "p_deam_nn = []\n",
    "p_deam_nd = []\n",
    "p_norm_nn = []\n",
    "p_norm_nd = []\n",
    "\n",
    "for run in deam_df.run.unique():\n",
    "    deam_n = len(deam_df[deam_df.run == run][deam_df.aa == 'N'])\n",
    "    deam_nn = len(deam_df[deam_df.run == run][deam_df.aa == 'N'][deam_df['max'] < 1.3])\n",
    "    deam_nd = len(deam_df[deam_df.run == run][deam_df.aa == 'N'][deam_df['max'] >= 1.3])\n",
    "    # print(f\"{run} : {deam_nd/deam_n}, {deam_nn/deam_n}\")\n",
    "    p_deam_nn.append(deam_nn/deam_n*100)\n",
    "    p_deam_nd.append(deam_nd/deam_n*100)\n",
    "\n",
    "for run in norm_df[norm_df.aa == 'N'].run.unique():\n",
    "    norm_n = len(norm_df[norm_df.run == run][norm_df.aa == 'N'])\n",
    "    norm_nn = len(norm_df[norm_df.run == run][norm_df.aa == 'N'][norm_df['max'] < 1.3])\n",
    "    norm_nd = len(norm_df[norm_df.run == run][norm_df.aa == 'N'][norm_df['max'] >= 1.3])\n",
    "    # print(f\"{run} : {norm_nd/norm_n}, {norm_nn/norm_n}\")\n",
    "    p_norm_nn.append(norm_nn/norm_n*100)\n",
    "    p_norm_nd.append(norm_nd/norm_n*100)\n",
    "p_deam_nn, p_deam_nd, p_norm_nn, p_norm_nd\n",
    "\n",
    "bar_xs = [0,0.8,1.8,2.6]\n",
    "figure(figsize=(4,4))\n",
    "\n",
    "conditions = [p_norm_nn, p_norm_nd, p_deam_nn, p_deam_nd]\n",
    "bar_ys = [np.mean(x) for x in conditions]\n",
    "bar_errs = [np.std(x) for x in conditions]\n",
    "\n",
    "plt.bar(bar_xs, bar_ys, color = ['#33B77B','#643775','#33B77B', '#643775'])\n",
    "plt.xticks(bar_xs, \n",
    "        labels=[l + f\"\\nn={len(c)}\" for l, c in zip(['N', 'Putative D', 'N', 'Putative D'], conditions)],\n",
    "        fontsize=12)\n",
    "plt.yticks(fontsize=12)\n",
    "plt.errorbar(bar_xs, bar_ys, yerr=bar_errs, ls='none', color='black')\n",
    "plt.ylabel(\"% VRs in N position\", fontsize=12)\n",
    "ax = plt.gca()\n",
    "ax.spines[['right', 'top']].set_visible(False)\n",
    "new_rc_params = {'text.usetex': False,\n",
    "\"svg.fonttype\": 'none',\n",
    "\"font.family\":'arial'\n",
    "}\n",
    "\n",
    "for bar_x, ys in zip(bar_xs, conditions):\n",
    "    for y in ys:\n",
    "        plt.scatter(bar_x + random.random()/2-0.25, y, color = 'black')\n",
    "plt.show()"
   ]
  }
 ],
 "metadata": {
  "kernelspec": {
   "display_name": "Python 3.9.13 ('base')",
   "language": "python",
   "name": "python3"
  },
  "language_info": {
   "codemirror_mode": {
    "name": "ipython",
    "version": 3
   },
   "file_extension": ".py",
   "mimetype": "text/x-python",
   "name": "python",
   "nbconvert_exporter": "python",
   "pygments_lexer": "ipython3",
   "version": "3.9.13"
  },
  "orig_nbformat": 4,
  "vscode": {
   "interpreter": {
    "hash": "b01409a2fbaa3f35eaee56680c62c394066017bc60fbb802363dadef564d4717"
   }
  }
 },
 "nbformat": 4,
 "nbformat_minor": 2
}
